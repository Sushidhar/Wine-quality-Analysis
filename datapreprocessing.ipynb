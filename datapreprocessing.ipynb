{
 "cells": [
  {
   "cell_type": "code",
   "execution_count": null,
   "metadata": {
    "collapsed": false
   },
   "outputs": [],
   "source": [
    "\n",
    "from io import StringIO\n",
    "import requests\n",
    "import json\n",
    "import pandas as pd\n",
    "\n",
    "# @hidden_cell\n",
    "# This function accesses a file in your Object Storage. The definition contains your credentials.\n",
    "# You might want to remove those credentials before you share your notebook.\n",
    "def get_object_storage_file_with_credentials_b3df59f4cfa4437ba5a0d8341462d910(container, filename):\n",
    "    \"\"\"This functions returns a StringIO object containing\n",
    "    the file content from Bluemix Object Storage.\"\"\"\n",
    "\n",
    "    url1 = ''.join(['https://identity.open.softlayer.com', '/v3/auth/tokens'])\n",
    "    data = {'auth': {'identity': {'methods': ['password'],\n",
    "            'password': {'user': {'name': 'member_e61abd9f360f5ae76429c3a3c8d7691ffe433702','domain': {'id': 'cc9350cb51284007801ed1b5d49f396e'},\n",
    "            'password': 'ExnZeWW7-2,.,S#t'}}}}}\n",
    "    headers1 = {'Content-Type': 'application/json'}\n",
    "    resp1 = requests.post(url=url1, data=json.dumps(data), headers=headers1)\n",
    "    resp1_body = resp1.json()\n",
    "    for e1 in resp1_body['token']['catalog']:\n",
    "        if(e1['type']=='object-store'):\n",
    "            for e2 in e1['endpoints']:\n",
    "                        if(e2['interface']=='public'and e2['region']=='dallas'):\n",
    "                            url2 = ''.join([e2['url'],'/', container, '/', filename])\n",
    "    s_subject_token = resp1.headers['x-subject-token']\n",
    "    headers2 = {'X-Auth-Token': s_subject_token, 'accept': 'application/json'}\n",
    "    resp2 = requests.get(url=url2, headers=headers2)\n",
    "    return StringIO(resp2.text)\n",
    "\n",
    "df_data_1 = pd.read_csv(get_object_storage_file_with_credentials_b3df59f4cfa4437ba5a0d8341462d910('DefaultProjectsushidharjayaramanmavsutaedu', 'white.csv'))\n",
    "df_data_1.head()\n"
   ]
  },
  {
   "cell_type": "code",
   "execution_count": null,
   "metadata": {
    "collapsed": false
   },
   "outputs": [],
   "source": [
    "if df_data_1[\"quality\"] < 6:\n",
    "    df_data_1[\"quality\"] = \"Low\"\n",
    "elif df_data_1[\"quality\"] >= 7:\n",
    "    df_data_1[\"quality\"] = \"Medium\"\n",
    "else df_data_1[\"quality\"] = 6:\n",
    "    df_data_1[\"quality\"] = \"High\"\n",
    "df_data_1.quality"
   ]
  },
  {
   "cell_type": "code",
   "execution_count": null,
   "metadata": {
    "collapsed": true
   },
   "outputs": [],
   "source": [
    "stratified_CV_data = df_data_1.sampleBy('quality', fractions={'Low': 1060./1640, 'High': 1.0, 'Medium' : 1060./2198}).cache()\n",
    "\n",
    "stratified_CV_data.groupby('quality').count().toPandas()"
   ]
  },
  {
   "cell_type": "code",
   "execution_count": null,
   "metadata": {
    "collapsed": true
   },
   "outputs": [],
   "source": [
    "#final_CV_data = stratified_CV_data.drop('total sulfur dioxide').drop('density').cache()\n",
    "final_CV_data = stratified_CV_data.drop('free sulfur dioxide').drop('density').cache()\n",
    "#final_CV_data = stratified_CV_data.drop('total sulfur dioxide').drop('residual sugar').cache()\n",
    "#final_CV_data = stratified_CV_data.drop('free sulfur dioxide').drop('residual sugar').cache()"
   ]
  },
  {
   "cell_type": "code",
   "execution_count": null,
   "metadata": {
    "collapsed": true
   },
   "outputs": [],
   "source": [
    "from pyspark.ml import Pipeline\n",
    "from pyspark.ml.feature import OneHotEncoder, StringIndexer, VectorAssembler\n",
    "indexer = StringIndexer(inputCol=\"quality\", outputCol=\"qualityIndex\")\n",
    "indexed = indexer.fit(final_CV_data).transform(final_CV_data)\n",
    "indexed = indexed.drop('quality').cache()\n",
    "indexed.show()"
   ]
  },
  {
   "cell_type": "code",
   "execution_count": null,
   "metadata": {
    "collapsed": true
   },
   "outputs": [],
   "source": [
    "stages = [] # stages in our Pipeline\n",
    "  \n",
    "label_stringIdx = StringIndexer(inputCol = \"quality\", outputCol = \"label\")\n",
    "stages += [label_stringIdx]\n",
    "\n",
    "#numericCols = [\"fixed acidity\",\"volatile acidity\",\"citric acid\",\"residual sugar\",\"chlorides\",\"free sulfur dioxide\",\"pH\",\"sulphates\",\"alcohol\"]\n",
    "numericCols = [\"fixed acidity\",\"volatile acidity\",\"citric acid\",\"residual sugar\",\"chlorides\",\"total sulfur dioxide\",\"free sulfur dioxide\",\"density\",\"pH\",\"sulphates\",\"alcohol\"]\n",
    "#numericCols = [\"fixed acidity\",\"volatile acidity\",\"citric acid\",\"chlorides\",\"free sulfur dioxide\",\"density\",\"pH\",\"sulphates\",\"alcohol\"]\n",
    "#numericCols = [\"fixed acidity\",\"volatile acidity\",\"citric acid\",\"chlorides\",\"total sulfur dioxide\",\"density\",\"pH\",\"sulphates\",\"alcohol\"]\n",
    "#assemblerInputs = map(lambda c: c + \"classVec\", categoricalColumns) + numericCols\n",
    "assembler = VectorAssembler(inputCols=numericCols, outputCol=\"features\")\n",
    "stages += [assembler]\n",
    "\n",
    "cols = df_data_1.columns\n",
    "# Create a Pipeline.\n",
    "pipeline = Pipeline(stages=stages)\n",
    "# Run the feature transformations.\n",
    "#  - fit() computes feature statistics as needed.\n",
    "#  - transform() actually transforms the features.\n",
    "pipelineModel = pipeline.fit(df_data_1)\n",
    "dataset = pipelineModel.transform(df_data_1)\n",
    "\n",
    "# Keep relevant columns\n",
    "selectedcols = [\"label\", \"features\"] + cols\n",
    "dataset = dataset.select(selectedcols)\n",
    "#display(dataset)\n",
    "#type(dataset)\n",
    "dataset.toPandas()"
   ]
  }
 ],
 "metadata": {
  "kernelspec": {
   "display_name": "Python 2 with Spark 2.0",
   "language": "python",
   "name": "python2-spark20"
  },
  "language_info": {
   "codemirror_mode": {
    "name": "ipython",
    "version": 2
   },
   "file_extension": ".py",
   "mimetype": "text/x-python",
   "name": "python",
   "nbconvert_exporter": "python",
   "pygments_lexer": "ipython2",
   "version": "2.7.11"
  }
 },
 "nbformat": 4,
 "nbformat_minor": 0
}